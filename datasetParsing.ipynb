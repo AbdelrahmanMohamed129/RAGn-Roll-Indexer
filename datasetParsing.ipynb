{
 "cells": [
  {
   "cell_type": "markdown",
   "metadata": {},
   "source": [
    "# Download the datasets"
   ]
  },
  {
   "cell_type": "markdown",
   "metadata": {},
   "source": [
    "### 21 Mil WikiDPR"
   ]
  },
  {
   "cell_type": "code",
   "execution_count": null,
   "metadata": {},
   "outputs": [],
   "source": [
    "import pandas\n",
    "from datasets import load_dataset\n",
    "\n",
    "dataset = load_dataset(\"wiki_dpr\", \"psgs_w100.multiset.no_index\", streaming= True)"
   ]
  },
  {
   "cell_type": "code",
   "execution_count": null,
   "metadata": {},
   "outputs": [],
   "source": [
    "import numpy as np\n",
    "print(next(iter(dataset['train'])))\n",
    "# embeds = np.array([doc['emb'] for doc in dataset['train']])\n",
    "# print(\"Embeddings:\")\n",
    "# print(embeds)\n"
   ]
  },
  {
   "cell_type": "markdown",
   "metadata": {},
   "source": [
    "### Cohere wiki 485k dataset"
   ]
  },
  {
   "cell_type": "code",
   "execution_count": 1,
   "metadata": {},
   "outputs": [
    {
     "data": {
      "application/vnd.jupyter.widget-view+json": {
       "model_id": "896588f1772543eba795ab23ea8e73a7",
       "version_major": 2,
       "version_minor": 0
      },
      "text/plain": [
       "Downloading metadata:   0%|          | 0.00/1.29k [00:00<?, ?B/s]"
      ]
     },
     "metadata": {},
     "output_type": "display_data"
    },
    {
     "data": {
      "application/vnd.jupyter.widget-view+json": {
       "model_id": "f088276dcf0741ef84287446f7aea4fd",
       "version_major": 2,
       "version_minor": 0
      },
      "text/plain": [
       "Downloading readme:   0%|          | 0.00/3.84k [00:00<?, ?B/s]"
      ]
     },
     "metadata": {},
     "output_type": "display_data"
    },
    {
     "name": "stderr",
     "output_type": "stream",
     "text": [
      "Old caching folder C:\\Users\\BoodyBeeh\\.cache\\huggingface\\datasets\\Cohere___parquet\\Cohere--wikipedia-22-12-simple-embeddings-94deea3d55a22093\\0.0.0\\2a3b91fbd88a2c90d1dbbb32b460cf621d31bd5b05b934492fdef7d8d6f236ec for dataset parquet exists but no data were found. Removing it. \n"
     ]
    },
    {
     "name": "stdout",
     "output_type": "stream",
     "text": [
      "Downloading and preparing dataset wikipedia-22-12-embeddings/simple (download: 1.52 GiB, generated: 1.57 GiB, post-processed: Unknown size, total: 3.09 GiB) to C:/Users/BoodyBeeh/.cache/huggingface/datasets/Cohere___parquet/Cohere--wikipedia-22-12-simple-embeddings-94deea3d55a22093/0.0.0/2a3b91fbd88a2c90d1dbbb32b460cf621d31bd5b05b934492fdef7d8d6f236ec...\n"
     ]
    },
    {
     "data": {
      "application/vnd.jupyter.widget-view+json": {
       "model_id": "a9ebff4ae86a4e3888b95859c50b319b",
       "version_major": 2,
       "version_minor": 0
      },
      "text/plain": [
       "Downloading data files:   0%|          | 0/1 [00:00<?, ?it/s]"
      ]
     },
     "metadata": {},
     "output_type": "display_data"
    },
    {
     "data": {
      "application/vnd.jupyter.widget-view+json": {
       "model_id": "737040cc2e514210bf4f458369652525",
       "version_major": 2,
       "version_minor": 0
      },
      "text/plain": [
       "Downloading data:   0%|          | 0.00/409M [00:00<?, ?B/s]"
      ]
     },
     "metadata": {},
     "output_type": "display_data"
    },
    {
     "data": {
      "application/vnd.jupyter.widget-view+json": {
       "model_id": "38f4a60e2ba8498bb836292309f669f4",
       "version_major": 2,
       "version_minor": 0
      },
      "text/plain": [
       "Downloading data:   0%|          | 0.00/408M [00:00<?, ?B/s]"
      ]
     },
     "metadata": {},
     "output_type": "display_data"
    },
    {
     "data": {
      "application/vnd.jupyter.widget-view+json": {
       "model_id": "77c78f0a3d7d4a588cbf7053fbf99927",
       "version_major": 2,
       "version_minor": 0
      },
      "text/plain": [
       "Downloading data:   0%|          | 0.00/407M [00:00<?, ?B/s]"
      ]
     },
     "metadata": {},
     "output_type": "display_data"
    },
    {
     "data": {
      "application/vnd.jupyter.widget-view+json": {
       "model_id": "6dd4c8c18fdd448b81703185d565f6ae",
       "version_major": 2,
       "version_minor": 0
      },
      "text/plain": [
       "Downloading data:   0%|          | 0.00/404M [00:00<?, ?B/s]"
      ]
     },
     "metadata": {},
     "output_type": "display_data"
    },
    {
     "data": {
      "application/vnd.jupyter.widget-view+json": {
       "model_id": "88ff9a659c224753bc108ffee7e5ace2",
       "version_major": 2,
       "version_minor": 0
      },
      "text/plain": [
       "Extracting data files:   0%|          | 0/1 [00:00<?, ?it/s]"
      ]
     },
     "metadata": {},
     "output_type": "display_data"
    },
    {
     "data": {
      "application/vnd.jupyter.widget-view+json": {
       "model_id": "a85b23428e164be4ad968c6664610d64",
       "version_major": 2,
       "version_minor": 0
      },
      "text/plain": [
       "Generating train split:   0%|          | 0/485859 [00:00<?, ? examples/s]"
      ]
     },
     "metadata": {},
     "output_type": "display_data"
    },
    {
     "name": "stdout",
     "output_type": "stream",
     "text": [
      "Dataset parquet downloaded and prepared to C:/Users/BoodyBeeh/.cache/huggingface/datasets/Cohere___parquet/Cohere--wikipedia-22-12-simple-embeddings-94deea3d55a22093/0.0.0/2a3b91fbd88a2c90d1dbbb32b460cf621d31bd5b05b934492fdef7d8d6f236ec. Subsequent calls will reuse this data.\n"
     ]
    },
    {
     "name": "stderr",
     "output_type": "stream",
     "text": [
      "c:\\Users\\BoodyBeeh\\anaconda3\\Lib\\site-packages\\datasets\\table.py:1407: FutureWarning: promote has been superseded by promote_options='default'.\n",
      "  table = cls._concat_blocks(blocks, axis=0)\n"
     ]
    }
   ],
   "source": [
    "import pandas\n",
    "from datasets import load_dataset\n",
    "\n",
    "docs = load_dataset(f\"Cohere/wikipedia-22-12-simple-embeddings\", split=\"train\")"
   ]
  },
  {
   "cell_type": "code",
   "execution_count": null,
   "metadata": {},
   "outputs": [],
   "source": [
    "for doc in docs:\n",
    "\n",
    "    with open(\"embeds2.txt\", \"a\") as f:\n",
    "        f.write(str(doc['emb']))\n",
    "        f.write('\\n')"
   ]
  },
  {
   "cell_type": "markdown",
   "metadata": {},
   "source": [
    "# Attempts\n"
   ]
  },
  {
   "cell_type": "markdown",
   "metadata": {},
   "source": [
    "### Convert file to binary\n"
   ]
  },
  {
   "cell_type": "code",
   "execution_count": null,
   "metadata": {},
   "outputs": [],
   "source": [
    "# pickle dump the docs\n",
    "import pickle\n",
    "with open('wikiCohere.bin', 'wb') as f:\n",
    "    pickle.dump(docs, f)"
   ]
  },
  {
   "cell_type": "code",
   "execution_count": 5,
   "metadata": {},
   "outputs": [],
   "source": [
    "import numpy as np\n",
    "embeds = np.array([doc['emb'] for doc in docs])\n",
    "for emb in embeds:\n",
    "    with open('try.bin', 'a') as f:\n",
    "        f.write(str(emb))"
   ]
  },
  {
   "cell_type": "markdown",
   "metadata": {},
   "source": [
    "# KD tree"
   ]
  },
  {
   "cell_type": "markdown",
   "metadata": {},
   "source": [
    "### Constructing KD tree"
   ]
  },
  {
   "cell_type": "code",
   "execution_count": null,
   "metadata": {},
   "outputs": [],
   "source": [
    "from sklearn.neighbors import KDTree\n",
    "from scipy.spatial import cKDTree\n",
    "tree = KDTree(embeds) # leafSize = 16\n",
    "# tree = cKDTree(embeds)"
   ]
  },
  {
   "cell_type": "code",
   "execution_count": null,
   "metadata": {},
   "outputs": [],
   "source": [
    "tree_data, index, tree_nodes, node_bounds = tree.get_arrays()\n",
    "tree_nodes"
   ]
  },
  {
   "cell_type": "markdown",
   "metadata": {},
   "source": [
    "# K means"
   ]
  },
  {
   "cell_type": "markdown",
   "metadata": {},
   "source": [
    "### Running K means on each batch\n",
    "- 100k batches\n",
    "- each batch 100 clusters"
   ]
  },
  {
   "cell_type": "code",
   "execution_count": 47,
   "metadata": {},
   "outputs": [
    {
     "name": "stderr",
     "output_type": "stream",
     "text": [
      "c:\\Users\\BoodyBeeh\\anaconda3\\Lib\\site-packages\\sklearn\\cluster\\_kmeans.py:870: FutureWarning: The default value of `n_init` will change from 10 to 'auto' in 1.4. Set the value of `n_init` explicitly to suppress the warning\n",
      "  warnings.warn(\n"
     ]
    }
   ],
   "source": [
    "# loop on folders\n",
    "import os\n",
    "import numpy as np\n",
    "from sklearn.cluster import KMeans\n",
    "\n",
    "np.set_printoptions(threshold=np.inf, linewidth=np.inf)  # ensure numpy array won't truncate\n",
    "\n",
    "with open(\"./batches/1-embeds-batch.txt\", \"r\") as f:\n",
    "    # read each line and convert to numpy array\n",
    "    lines = [np.fromstring(line, sep=\" \") for line in f]\n",
    "    # convert to numpy array\n",
    "    embeds = np.array(lines)\n",
    "    # apply kmeans on embeds and get the centroids\n",
    "    kmeans = KMeans(n_clusters = 100).fit(embeds)\n",
    "    with open(\"./batches/centroids1.txt\", \"a\") as f:\n",
    "        f.write(str(kmeans.cluster_centers_))\n"
   ]
  },
  {
   "cell_type": "markdown",
   "metadata": {},
   "source": [
    "Collecting all centroid files into one array\n",
    "* Make sure that centroids files don't have any squared brackets"
   ]
  },
  {
   "cell_type": "code",
   "execution_count": 53,
   "metadata": {},
   "outputs": [],
   "source": [
    "centroids = np.loadtxt(\"./batches/centroids0.txt\")\n",
    "centroids = np.concatenate((centroids, np.loadtxt(\"./batches/centroids1.txt\")), axis=0)\n",
    "centroids = np.concatenate((centroids, np.loadtxt(\"./batches/centroids2.txt\")), axis=0)\n",
    "centroids = np.concatenate((centroids, np.loadtxt(\"./batches/centroids3.txt\")), axis=0)\n",
    "centroids = np.concatenate((centroids, np.loadtxt(\"./batches/centroids4.txt\")), axis=0)"
   ]
  },
  {
   "cell_type": "markdown",
   "metadata": {},
   "source": [
    "Applying K-means on all the centroids"
   ]
  },
  {
   "cell_type": "code",
   "execution_count": 55,
   "metadata": {},
   "outputs": [
    {
     "name": "stderr",
     "output_type": "stream",
     "text": [
      "c:\\Users\\BoodyBeeh\\anaconda3\\Lib\\site-packages\\sklearn\\cluster\\_kmeans.py:870: FutureWarning: The default value of `n_init` will change from 10 to 'auto' in 1.4. Set the value of `n_init` explicitly to suppress the warning\n",
      "  warnings.warn(\n",
      "c:\\Users\\BoodyBeeh\\anaconda3\\Lib\\site-packages\\sklearn\\cluster\\_kmeans.py:1382: UserWarning: KMeans is known to have a memory leak on Windows with MKL, when there are less chunks than available threads. You can avoid it by setting the environment variable OMP_NUM_THREADS=2.\n",
      "  warnings.warn(\n"
     ]
    }
   ],
   "source": [
    "# apply kmeans on embeds and get the centroids\n",
    "kmeans = KMeans(n_clusters = 100).fit(centroids)\n",
    "with open(\"./batches/final-centroids.txt\", \"a\") as f:\n",
    "    f.write(str(kmeans.cluster_centers_))"
   ]
  },
  {
   "cell_type": "markdown",
   "metadata": {},
   "source": [
    "Assigning labels to each batch according to the final centroids"
   ]
  },
  {
   "cell_type": "code",
   "execution_count": 73,
   "metadata": {},
   "outputs": [],
   "source": [
    "def assign_labels(X, centroids):\n",
    "    labels = np.empty(X.shape[0], dtype=np.int64)\n",
    "    for i, x in enumerate(X):\n",
    "        distances = np.linalg.norm(x - centroids, axis=1)\n",
    "        labels[i] = np.argmin(distances)\n",
    "    return labels\n",
    "\n",
    "\n",
    "with open(\"./batches/4-embeds-batch.txt\", \"r\") as f:\n",
    "    # read each line and convert to numpy array\n",
    "    lines = [np.fromstring(line, sep=\" \") for line in f]\n",
    "    # convert to numpy array\n",
    "    embeds = np.array(lines)\n",
    "    # print(embeds.shape)\n",
    "    centroids = np.loadtxt(\"./batches/final-centroids.txt\")\n",
    "    labels = assign_labels(embeds, centroids)\n",
    "    with open(\"./batches/labels4.txt\", \"a\") as f:\n",
    "        f.write(str(labels))"
   ]
  },
  {
   "cell_type": "markdown",
   "metadata": {},
   "source": [
    "Constructing clusters"
   ]
  },
  {
   "cell_type": "code",
   "execution_count": 87,
   "metadata": {},
   "outputs": [],
   "source": [
    "# opening the embeds file\n",
    "with open(\"./batches/dataset/1-embeds-batch.txt\", \"r\") as f:\n",
    "    lines = [np.fromstring(line, sep=\" \") for line in f]\n",
    "    embeds = np.array(lines)\n",
    "\n",
    "# read the labels and convert it to a list\n",
    "with open(\"./batches/labels/labels1.txt\", \"r\") as f:\n",
    "    labels =[int(x) for x in next(f).split()]   \n",
    "\n",
    "# loop on the labels \n",
    "for i in range(100):\n",
    "    indices = [j for j, x in enumerate(labels) if x == i]\n",
    "    current_embeds = embeds[indices]\n",
    "    with open(f\"./batches/clusters/cluster{i}.txt\", \"a\") as f:\n",
    "        f.write(str(current_embeds))"
   ]
  },
  {
   "cell_type": "code",
   "execution_count": null,
   "metadata": {},
   "outputs": [],
   "source": [
    "for i in range(100):\n",
    "    with open(f\"./batches/clusters/cluster{i}.txt\", \"a\") as f:\n",
    "        f.write(\"\\n\")"
   ]
  }
 ],
 "metadata": {
  "kernelspec": {
   "display_name": "base",
   "language": "python",
   "name": "python3"
  },
  "language_info": {
   "codemirror_mode": {
    "name": "ipython",
    "version": 3
   },
   "file_extension": ".py",
   "mimetype": "text/x-python",
   "name": "python",
   "nbconvert_exporter": "python",
   "pygments_lexer": "ipython3",
   "version": "3.11.5"
  }
 },
 "nbformat": 4,
 "nbformat_minor": 2
}
