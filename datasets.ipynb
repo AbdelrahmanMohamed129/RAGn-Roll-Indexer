{
 "cells": [
  {
   "cell_type": "code",
   "execution_count": null,
   "metadata": {},
   "outputs": [],
   "source": [
    "from datasets import load_dataset\n",
    "\n",
    "dataset = load_dataset(\"C:\\Users\\BoodyBeeh\\.cache\\huggingface\\datasets\\downloads\\extracted\")"
   ]
  },
  {
   "cell_type": "code",
   "execution_count": null,
   "metadata": {},
   "outputs": [],
   "source": [
    "import pandas\n",
    "from datasets import load_dataset\n",
    "\n",
    "dataset = load_dataset(\"D:\\Boody\\GP\\huggingface\\datasets\\downloads\\extracted\\2160a0308ad96cee2fc94f123c9ac0da23ade52c1194dbd7cb78d8b23d2ad7c8\")\n",
    "df = pandas.DataFrame(dataset[\"train\"])"
   ]
  },
  {
   "cell_type": "code",
   "execution_count": 1,
   "metadata": {},
   "outputs": [
    {
     "name": "stderr",
     "output_type": "stream",
     "text": [
      "Found cached dataset parquet (C:/Users/BoodyBeeh/.cache/huggingface/datasets/Cohere___parquet/Cohere--wikipedia-22-12-simple-embeddings-94deea3d55a22093/0.0.0/2a3b91fbd88a2c90d1dbbb32b460cf621d31bd5b05b934492fdef7d8d6f236ec)\n",
      "c:\\Users\\BoodyBeeh\\anaconda3\\Lib\\site-packages\\datasets\\table.py:1407: FutureWarning: promote has been superseded by promote_options='default'.\n",
      "  table = cls._concat_blocks(blocks, axis=0)\n"
     ]
    }
   ],
   "source": [
    "import pandas\n",
    "from datasets import load_dataset\n",
    "docs = load_dataset(f\"Cohere/wikipedia-22-12-simple-embeddings\", split=\"train\")\n"
   ]
  },
  {
   "cell_type": "code",
   "execution_count": 2,
   "metadata": {},
   "outputs": [
    {
     "name": "stdout",
     "output_type": "stream",
     "text": [
      "Embeddings:\n",
      "[[ 0.07711288  0.31971741 -0.20515901 ... -0.26713574  0.0303479\n",
      "   0.05174244]\n",
      " [ 0.1961289   0.51426697  0.03864574 ... -0.19372283  0.2940397\n",
      "  -0.11770557]\n",
      " [ 0.1391919   0.17759687 -0.11669647 ... -0.25139177  0.33378783\n",
      "   0.21392426]\n",
      " ...\n",
      " [-0.20722502  0.57486594  0.19568458 ... -0.70112866 -0.22619461\n",
      "  -0.41126108]\n",
      " [-0.11491358  0.29365528  0.36319447 ... -0.52260661 -0.04356358\n",
      "  -0.41567063]\n",
      " [-0.5770638   0.21720746  0.47716025 ...  0.15274483 -0.17223495\n",
      "  -0.33925158]]\n"
     ]
    }
   ],
   "source": [
    "import numpy as np\n",
    "\n",
    "embeds = np.array([doc['emb'] for doc in docs])\n",
    "print(\"Embeddings:\")\n",
    "print(embeds)"
   ]
  },
  {
   "cell_type": "code",
   "execution_count": 32,
   "metadata": {},
   "outputs": [],
   "source": [
    "from sklearn.neighbors import KDTree\n",
    "from scipy.spatial import cKDTree\n",
    "tree = KDTree(embeds, leaf_size=3)\n",
    "# tree = cKDTree(embeds)"
   ]
  },
  {
   "cell_type": "code",
   "execution_count": 35,
   "metadata": {},
   "outputs": [
    {
     "data": {
      "text/plain": [
       "array([(     0, 485859, 0, 37.87364195), (     0, 242929, 0, 36.44004823),\n",
       "       (242929, 485859, 0, 36.42551408), ...,\n",
       "       (485847, 485851, 1,  7.70629079), (485851, 485855, 1,  8.38547382),\n",
       "       (485855, 485859, 1,  9.25505889)],\n",
       "      dtype=[('idx_start', '<i8'), ('idx_end', '<i8'), ('is_leaf', '<i8'), ('radius', '<f8')])"
      ]
     },
     "execution_count": 35,
     "metadata": {},
     "output_type": "execute_result"
    }
   ],
   "source": [
    "\n",
    "tree_data, index, tree_nodes, node_bounds = tree.get_arrays()\n",
    "tree_nodes"
   ]
  }
 ],
 "metadata": {
  "kernelspec": {
   "display_name": "base",
   "language": "python",
   "name": "python3"
  },
  "language_info": {
   "codemirror_mode": {
    "name": "ipython",
    "version": 3
   },
   "file_extension": ".py",
   "mimetype": "text/x-python",
   "name": "python",
   "nbconvert_exporter": "python",
   "pygments_lexer": "ipython3",
   "version": "3.11.5"
  }
 },
 "nbformat": 4,
 "nbformat_minor": 2
}
